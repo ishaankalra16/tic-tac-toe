{
 "cells": [
  {
   "cell_type": "markdown",
   "metadata": {},
   "source": [
    "**Function to print the board**"
   ]
  },
  {
   "cell_type": "code",
   "execution_count": 18,
   "metadata": {},
   "outputs": [],
   "source": [
    "from IPython.display import clear_output\n",
    "\n",
    "def display_board(board):\n",
    "    clear_output()\n",
    "    print(' ',' ',' ', '|', ' ', '|', ' ')\n",
    "    print(' ',' ',board[7],'|',board[8],'|',board[9] )\n",
    "    print(' ',' ',' ', '|', ' ', '|', ' ')\n",
    "    print('-----------------')\n",
    "    print(' ',' ',' ', '|', ' ', '|', ' ')\n",
    "    print(' ',' ',board[4],'|',board[5],'|',board[6] )\n",
    "    print(' ',' ',' ', '|', ' ', '|', ' ')\n",
    "    print('-----------------')\n",
    "    print(' ',' ',' ', '|', ' ', '|', ' ')\n",
    "    print(' ',' ',board[1],'|',board[2],'|',board[3] )\n",
    "    print(' ',' ',' ', '|', ' ', '|', ' ')\n",
    "    "
   ]
  },
  {
   "cell_type": "markdown",
   "metadata": {},
   "source": [
    "**Function to take input of the players input which may be either X or O**"
   ]
  },
  {
   "cell_type": "code",
   "execution_count": 19,
   "metadata": {},
   "outputs": [],
   "source": [
    "def player_input():\n",
    "    marker = ''\n",
    "    while (marker != 'X' and marker != 'Y'):\n",
    "        marker = input('Player 1, choose between X and Y!').upper()\n",
    "    \n",
    "    if marker == 'X':\n",
    "        return ('X','Y')\n",
    "    else:\n",
    "        return ('Y','X')"
   ]
  },
  {
   "cell_type": "markdown",
   "metadata": {},
   "source": [
    "**Assigning the desired position, entered by the player to the board **"
   ]
  },
  {
   "cell_type": "code",
   "execution_count": 20,
   "metadata": {},
   "outputs": [],
   "source": [
    "def place_marker(board, marker2, position):\n",
    "    \n",
    "    \n",
    "    board[int(position)] = marker2\n",
    "    "
   ]
  },
  {
   "cell_type": "markdown",
   "metadata": {},
   "source": [
    "**To check after input whether the player has won or not?**"
   ]
  },
  {
   "cell_type": "code",
   "execution_count": 21,
   "metadata": {},
   "outputs": [],
   "source": [
    "def win_check(board,mark):\n",
    "     return (board[1] == mark and board[2] == mark and board[3] == mark or\n",
    "     board[1] == mark and board[2] == mark and board[3] == mark or \n",
    "     board[4] == mark and board[5] == mark and board[6] == mark or\n",
    "     board[7] == mark and board[8] == mark and board[9] == mark or\n",
    "     board[1] == mark and board[4] == mark and board[7] == mark or\n",
    "     board[2] == mark and board[5] == mark and board[8] == mark or\n",
    "     board[3] == mark and board[6] == mark and board[9] == mark or\n",
    "     board[1] == mark and board[5] == mark and board[9] == mark or                                      \n",
    "     board[3] == mark and board[5] == mark and board[7] == mark)\n",
    "    "
   ]
  },
  {
   "cell_type": "markdown",
   "metadata": {},
   "source": [
    "**Function which selects the random player**"
   ]
  },
  {
   "cell_type": "code",
   "execution_count": 22,
   "metadata": {},
   "outputs": [],
   "source": [
    "import random\n",
    "\n",
    "def choose_first():\n",
    "    players = ('Player1', 'Player2')\n",
    "    player = random.choice(players)\n",
    "    \n",
    "    return player + ' will go first'\n",
    "        "
   ]
  },
  {
   "cell_type": "markdown",
   "metadata": {},
   "source": [
    "**To check whether the space input by the player is available on the board or not?**"
   ]
  },
  {
   "cell_type": "code",
   "execution_count": 23,
   "metadata": {},
   "outputs": [],
   "source": [
    "def space_check(board, position):\n",
    "    return board[position] == \" \""
   ]
  },
  {
   "cell_type": "markdown",
   "metadata": {},
   "source": [
    "**To check whether the board is full or not after the players input**"
   ]
  },
  {
   "cell_type": "code",
   "execution_count": 24,
   "metadata": {},
   "outputs": [],
   "source": [
    "def full_board_check(board):\n",
    "    for position in range(1,len(board)):\n",
    "        if board[position] == ' ':\n",
    "            return False\n",
    "    return True\n",
    "     "
   ]
  },
  {
   "cell_type": "markdown",
   "metadata": {},
   "source": [
    "**Function asking for players next position, checking that the same is available or not in the board and then assigning the value to the board if returned true**"
   ]
  },
  {
   "cell_type": "code",
   "execution_count": 25,
   "metadata": {},
   "outputs": [],
   "source": [
    "def player_choice(board):\n",
    "    global num\n",
    "    \n",
    "    for location in range(1,10):\n",
    "        location = input(\"Choose your next position(1,9) : \")\n",
    "        num = int(location)\n",
    "        a = ['Nice!','Well played!','Nice move!']\n",
    "        if space_check(board,num) == False:\n",
    "            print('That position is already filled') \n",
    "            continue\n",
    "        else:\n",
    "            print(random.choice(a))\n",
    "        break\n",
    "     \n",
    "    return num "
   ]
  },
  {
   "cell_type": "markdown",
   "metadata": {},
   "source": [
    "**Function asking players whether they want to play again or not?**"
   ]
  },
  {
   "cell_type": "code",
   "execution_count": 26,
   "metadata": {},
   "outputs": [],
   "source": [
    "def replay():\n",
    "    ans = input('Do you want to play again? Enter Yes or No: ')\n",
    "    return ans.lower() == 'y'"
   ]
  },
  {
   "cell_type": "markdown",
   "metadata": {},
   "source": [
    "**Combining each and every function at their respective places**"
   ]
  },
  {
   "cell_type": "code",
   "execution_count": 17,
   "metadata": {},
   "outputs": [
    {
     "name": "stdout",
     "output_type": "stream",
     "text": [
      "      |   |  \n",
      "    X |   | X\n",
      "      |   |  \n",
      "-----------------\n",
      "      |   |  \n",
      "    Y | X | Y\n",
      "      |   |  \n",
      "-----------------\n",
      "      |   |  \n",
      "    Y | Y | X\n",
      "      |   |  \n",
      "Congratulations! You've won the game.\n"
     ]
    },
    {
     "name": "stdin",
     "output_type": "stream",
     "text": [
      "Do you want to play again? Enter Yes or No:  No\n"
     ]
    },
    {
     "name": "stdout",
     "output_type": "stream",
     "text": [
      "Thanks for playing\n"
     ]
    }
   ],
   "source": [
    "print('Welcome to Tic Tac Toe!')\n",
    "while True:\n",
    "    tic_board = ['#',' ',' ',' ',' ',' ',' ',' ',' ',' ']\n",
    "    player1_marker, player2_marker = player_input()\n",
    "    turn = choose_first()\n",
    "    \n",
    "    ask = input('Are you ready to play?')\n",
    "    if ask.lower()[0] == 'y':\n",
    "        game_on = True\n",
    "    else:\n",
    "        game_on = False\n",
    "        print('Type Yes whenever you are ready!')\n",
    "        \n",
    "    while game_on:\n",
    "        \n",
    "        if turn == 'Player1':\n",
    "            display_board(tic_board)\n",
    "            position = player_choice(tic_board)\n",
    "            place_marker(tic_board,player1_marker,position)\n",
    "            \n",
    "            if win_check(tic_board, player1_marker):\n",
    "                display_board(tic_board)\n",
    "                print(\"Congratulations! You've won the game.\")\n",
    "                game_on = False\n",
    "            else:\n",
    "                if full_board_check(tic_board):\n",
    "                    display_board(tic_board)\n",
    "                    print('Game is Draw!')\n",
    "                    break\n",
    "                else:\n",
    "                    turn = 'Player2'\n",
    "        \n",
    "        else:\n",
    "            display_board(tic_board)\n",
    "            position = player_choice(tic_board)\n",
    "            place_marker(tic_board,player2_marker,position)\n",
    "            \n",
    "            if win_check(tic_board, player2_marker):\n",
    "                display_board(tic_board)\n",
    "                print(\"Congratulations! You've won the game.\")\n",
    "                game_on = False\n",
    "            else:\n",
    "                if full_board_check(tic_board):\n",
    "                    display_board(tic_board)\n",
    "                    print('Game is Draw!')\n",
    "                    break\n",
    "                else:\n",
    "                    turn = 'Player1'\n",
    "    if not replay():\n",
    "        print('Thanks for playing')\n",
    "        break"
   ]
  }
 ],
 "metadata": {
  "celltoolbar": "Raw Cell Format",
  "kernelspec": {
   "display_name": "Python 3",
   "language": "python",
   "name": "python3"
  },
  "language_info": {
   "codemirror_mode": {
    "name": "ipython",
    "version": 3
   },
   "file_extension": ".py",
   "mimetype": "text/x-python",
   "name": "python",
   "nbconvert_exporter": "python",
   "pygments_lexer": "ipython3",
   "version": "3.8.8"
  }
 },
 "nbformat": 4,
 "nbformat_minor": 4
}
